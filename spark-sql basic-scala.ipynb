{
 "cells": [
  {
   "cell_type": "code",
   "execution_count": 2,
   "metadata": {},
   "outputs": [],
   "source": [
    "import org.apache.spark.sql.SparkSession"
   ]
  },
  {
   "cell_type": "code",
   "execution_count": 3,
   "metadata": {},
   "outputs": [
    {
     "data": {
      "text/plain": [
       "spark = org.apache.spark.sql.SparkSession@5009e47a\n"
      ]
     },
     "metadata": {},
     "output_type": "display_data",
     "source": "user"
    },
    {
     "data": {
      "text/plain": [
       "org.apache.spark.sql.SparkSession@5009e47a"
      ]
     },
     "execution_count": 3,
     "metadata": {},
     "output_type": "execute_result"
    }
   ],
   "source": [
    "val spark = (SparkSession.\n",
    "             builder.\n",
    "             config(\"spark.ui.port\", \"0\").\n",
    "             config(\"spark.sql.warehouse.dir\", \"/user/itv733322/warehouse\").\n",
    "             enableHiveSupport.\n",
    "             master(\"yarn\").\n",
    "             appName(\"spark-sql basic\").\n",
    "             getOrCreate())"
   ]
  },
  {
   "cell_type": "code",
   "execution_count": 4,
   "metadata": {},
   "outputs": [
    {
     "data": {
      "text/plain": [
       "Waiting for a Spark session to start..."
      ]
     },
     "metadata": {},
     "output_type": "display_data",
     "source": "user"
    },
    {
     "data": {
      "text/plain": [
       "+--------------------+--------------------+\n",
       "|                 key|               value|\n",
       "+--------------------+--------------------+\n",
       "|        spark.app.id|application_16155...|\n",
       "|      spark.app.name|        Apache Toree|\n",
       "|spark.driver.appU...|http://g01.itvers...|\n",
       "|spark.driver.extr...|-Dderby.system.ho...|\n",
       "|   spark.driver.host|   g01.itversity.com|\n",
       "|   spark.driver.port|               32953|\n",
       "|  spark.eventLog.dir| hdfs:///spark2-logs|\n",
       "|spark.eventLog.en...|                true|\n",
       "|spark.executor.ex...|/opt/hadoop/lib/n...|\n",
       "|   spark.executor.id|              driver|\n",
       "+--------------------+--------------------+\n",
       "only showing top 10 rows\n",
       "\n"
      ]
     },
     "execution_count": 4,
     "metadata": {},
     "output_type": "execute_result"
    }
   ],
   "source": [
    "%%sql\n",
    "\n",
    "SET"
   ]
  },
  {
   "cell_type": "code",
   "execution_count": null,
   "metadata": {},
   "outputs": [],
   "source": []
  }
 ],
 "metadata": {
  "kernelspec": {
   "display_name": "Spark 2 - Scala",
   "language": "scala",
   "name": "spark_2_scala"
  },
  "language_info": {
   "codemirror_mode": "text/x-scala",
   "file_extension": ".scala",
   "mimetype": "text/x-scala",
   "name": "scala",
   "pygments_lexer": "scala",
   "version": "2.11.12"
  }
 },
 "nbformat": 4,
 "nbformat_minor": 4
}
